{
  "nbformat": 4,
  "nbformat_minor": 0,
  "metadata": {
    "accelerator": "GPU",
    "colab": {
      "name": "Untitled0.ipynb",
      "provenance": []
    },
    "kernelspec": {
      "display_name": "Python 3",
      "name": "python3"
    }
  },
  "cells": [
    {
      "cell_type": "code",
      "metadata": {
        "id": "8JtuDNBghpuc"
      },
      "source": [
        "from keras.preprocessing.image import ImageDataGenerator\r\n",
        "from keras.models import Sequential\r\n",
        "from keras.layers import Conv2D, MaxPooling2D, BatchNormalization\r\n",
        "from keras.layers import Dense, Dropout, Flatten\r\n",
        "\r\n",
        "from sklearn.model_selection import train_test_split\r\n",
        "\r\n",
        "import matplotlib.pyplot as plt\r\n",
        "import numpy as np\r\n",
        "import pandas as pd\r\n",
        "import os\r\n",
        "import zipfile"
      ],
      "execution_count": null,
      "outputs": []
    },
    {
      "cell_type": "code",
      "metadata": {
        "id": "n-UQrIjkhuxs"
      },
      "source": [
        "train_dir = './train/'\r\n",
        "test_dir = './test1/'\r\n",
        "\r\n"
      ],
      "execution_count": null,
      "outputs": []
    },
    {
      "cell_type": "code",
      "metadata": {
        "id": "i7lT9S5eh5Hv"
      },
      "source": [
        "train_data = os.listdir(train_dir)\r\n",
        "categories = []\r\n",
        "for file in train_data:\r\n",
        "    category = file.split('.')[0]\r\n",
        "    if category == 'dog':\r\n",
        "        categories.append('dog')\r\n",
        "    else:\r\n",
        "        categories.append('cat')\r\n",
        "df = pd.DataFrame({'filename' : train_data, \r\n",
        "                   'category' : categories})"
      ],
      "execution_count": null,
      "outputs": []
    },
    {
      "cell_type": "code",
      "metadata": {
        "colab": {
          "base_uri": "https://localhost:8080/"
        },
        "id": "-N9CezKoa67H",
        "outputId": "3ad73444-642d-4109-cd42-9e933138ee13"
      },
      "source": [
        "print(df.head())\r\n",
        "print(df.tail())\r\n"
      ],
      "execution_count": null,
      "outputs": [
        {
          "output_type": "stream",
          "text": [
            "       filename category\n",
            "0  dog.8949.jpg      dog\n",
            "1  cat.1062.jpg      cat\n",
            "2  dog.6008.jpg      dog\n",
            "3  dog.6540.jpg      dog\n",
            "4  dog.9429.jpg      dog\n",
            "            filename category\n",
            "24995   dog.8110.jpg      dog\n",
            "24996  dog.11121.jpg      dog\n",
            "24997   dog.2192.jpg      dog\n",
            "24998  dog.11047.jpg      dog\n",
            "24999   cat.2129.jpg      cat\n"
          ],
          "name": "stdout"
        }
      ]
    },
    {
      "cell_type": "code",
      "metadata": {
        "colab": {
          "base_uri": "https://localhost:8080/"
        },
        "id": "4cE0wUHQbRAH",
        "outputId": "12488233-f88d-4079-e2c4-7ea87c82f696"
      },
      "source": [
        "print('No. of cat images: ',len(df[df['category'] == 'cat']))\r\n",
        "print('No. of cat images: ',len(df[df['category'] == 'dog']))\r\n"
      ],
      "execution_count": null,
      "outputs": [
        {
          "output_type": "stream",
          "text": [
            "No. of cat images:  12500\n",
            "No. of cat images:  12500\n"
          ],
          "name": "stdout"
        }
      ]
    },
    {
      "cell_type": "code",
      "metadata": {
        "id": "OoBQuYcRbVPf"
      },
      "source": [
        "model = Sequential()\r\n",
        "\r\n",
        "# 3 Convolutional, Pooling, Dropout layers\r\n",
        "model.add(Conv2D(8, \r\n",
        "                 (3,3), \r\n",
        "                 activation = 'relu', \r\n",
        "                 input_shape = (150, 150, 3)))\r\n",
        "model.add(MaxPooling2D(2,2))\r\n",
        "model.add(Dropout(0.25))\r\n",
        "\r\n",
        "model.add(Conv2D(16, \r\n",
        "                 (3, 3),\r\n",
        "                 activation = 'relu'))\r\n",
        "model.add(MaxPooling2D(2,2))\r\n",
        "model.add(Dropout(0.25))\r\n",
        "\r\n",
        "model.add(Conv2D(32, \r\n",
        "                 (3,3), \r\n",
        "                 activation = 'relu'))\r\n",
        "model.add(MaxPooling2D(2,2))\r\n",
        "model.add(Dropout(0.25))\r\n",
        "\r\n",
        "# Dense layers start\r\n",
        "model.add(Flatten())\r\n",
        "\r\n",
        "model.add(Dense(1024, \r\n",
        "                activation = 'relu'))\r\n",
        "model.add(Dropout(0.45))\r\n",
        "\r\n",
        "model.add(Dense(256, \r\n",
        "                activation = 'tanh'))\r\n",
        "model.add(Dropout(0.45))\r\n",
        "\r\n",
        "model.add(Dense(2, \r\n",
        "                activation = 'sigmoid'))\r\n"
      ],
      "execution_count": null,
      "outputs": []
    },
    {
      "cell_type": "code",
      "metadata": {
        "colab": {
          "base_uri": "https://localhost:8080/"
        },
        "id": "bDREykA_c7X1",
        "outputId": "0b52fbac-89a0-4841-c795-0be2b5e612bd"
      },
      "source": [
        "model.summary()\r\n"
      ],
      "execution_count": null,
      "outputs": [
        {
          "output_type": "stream",
          "text": [
            "Model: \"sequential\"\n",
            "_________________________________________________________________\n",
            "Layer (type)                 Output Shape              Param #   \n",
            "=================================================================\n",
            "conv2d (Conv2D)              (None, 148, 148, 8)       224       \n",
            "_________________________________________________________________\n",
            "max_pooling2d (MaxPooling2D) (None, 74, 74, 8)         0         \n",
            "_________________________________________________________________\n",
            "dropout (Dropout)            (None, 74, 74, 8)         0         \n",
            "_________________________________________________________________\n",
            "conv2d_1 (Conv2D)            (None, 72, 72, 16)        1168      \n",
            "_________________________________________________________________\n",
            "max_pooling2d_1 (MaxPooling2 (None, 36, 36, 16)        0         \n",
            "_________________________________________________________________\n",
            "dropout_1 (Dropout)          (None, 36, 36, 16)        0         \n",
            "_________________________________________________________________\n",
            "conv2d_2 (Conv2D)            (None, 34, 34, 32)        4640      \n",
            "_________________________________________________________________\n",
            "max_pooling2d_2 (MaxPooling2 (None, 17, 17, 32)        0         \n",
            "_________________________________________________________________\n",
            "dropout_2 (Dropout)          (None, 17, 17, 32)        0         \n",
            "_________________________________________________________________\n",
            "flatten (Flatten)            (None, 9248)              0         \n",
            "_________________________________________________________________\n",
            "dense (Dense)                (None, 1024)              9470976   \n",
            "_________________________________________________________________\n",
            "dropout_3 (Dropout)          (None, 1024)              0         \n",
            "_________________________________________________________________\n",
            "dense_1 (Dense)              (None, 256)               262400    \n",
            "_________________________________________________________________\n",
            "dropout_4 (Dropout)          (None, 256)               0         \n",
            "_________________________________________________________________\n",
            "dense_2 (Dense)              (None, 2)                 514       \n",
            "=================================================================\n",
            "Total params: 9,739,922\n",
            "Trainable params: 9,739,922\n",
            "Non-trainable params: 0\n",
            "_________________________________________________________________\n"
          ],
          "name": "stdout"
        }
      ]
    },
    {
      "cell_type": "code",
      "metadata": {
        "id": "OSa263cDdJZG"
      },
      "source": [
        "model.compile(loss = 'binary_crossentropy', \r\n",
        "              optimizer = 'adam',\r\n",
        "              metrics = ['accuracy'])\r\n"
      ],
      "execution_count": null,
      "outputs": []
    },
    {
      "cell_type": "code",
      "metadata": {
        "id": "0TYXIi16dPkn"
      },
      "source": [
        "train_df, val_df = train_test_split(df, \r\n",
        "                                    test_size = 0.25)\r\n",
        "train_df = train_df.reset_index(drop = True)\r\n",
        "val_df = val_df.reset_index(drop = True)\r\n"
      ],
      "execution_count": null,
      "outputs": []
    },
    {
      "cell_type": "code",
      "metadata": {
        "colab": {
          "base_uri": "https://localhost:8080/"
        },
        "id": "NeMQIJBSdSXZ",
        "outputId": "9a6562c8-e565-4552-d510-890eb6cef0b4"
      },
      "source": [
        "print(\"Train size: \", len(train_df))\r\n",
        "print(\"Validation size: \", len(val_df))\r\n"
      ],
      "execution_count": null,
      "outputs": [
        {
          "output_type": "stream",
          "text": [
            "Train size:  18750\n",
            "Validation size:  6250\n"
          ],
          "name": "stdout"
        }
      ]
    },
    {
      "cell_type": "code",
      "metadata": {
        "colab": {
          "base_uri": "https://localhost:8080/"
        },
        "id": "SzjZVb0BdWny",
        "outputId": "d0246374-26f7-4027-c949-1903fc3c2555"
      },
      "source": [
        "print(\"Dogs in train set: \", len(train_df[train_df['category'] == 'dog']))\r\n",
        "print(\"Cats in train set: \", len(train_df[train_df['category'] == 'cat']))\r\n",
        "print(\"Dogs in validation set: \", len(val_df[val_df['category'] == 'dog']))\r\n",
        "print(\"Cats in validation set: \", len(val_df[val_df['category'] == 'cat']))\r\n"
      ],
      "execution_count": null,
      "outputs": [
        {
          "output_type": "stream",
          "text": [
            "Dogs in train set:  9359\n",
            "Cats in train set:  9391\n",
            "Dogs in validation set:  3141\n",
            "Cats in validation set:  3109\n"
          ],
          "name": "stdout"
        }
      ]
    },
    {
      "cell_type": "code",
      "metadata": {
        "colab": {
          "base_uri": "https://localhost:8080/"
        },
        "id": "LAOYsnMJdiHN",
        "outputId": "ab7593d5-a7f3-43fd-a35c-d18a2387ef8e"
      },
      "source": [
        "train_datagen = ImageDataGenerator(rescale = 1./255)\r\n",
        "val_datagen = ImageDataGenerator(rescale = 1./255)\r\n",
        "\r\n",
        "train_generator = train_datagen.flow_from_dataframe(train_df, \r\n",
        "                                                    './train/', \r\n",
        "                                                    x_col = 'filename', \r\n",
        "                                                    y_col = 'category', \r\n",
        "                                                    target_size =(150, 150), \r\n",
        "                                                    class_mode = 'categorical', \r\n",
        "                                                    batch_size = 20, \r\n",
        "                                                    color_mode = 'rgb', \r\n",
        "                                                    shuffle = True)\r\n",
        "\r\n",
        "val_generator = val_datagen.flow_from_dataframe(val_df, \r\n",
        "                                                    './train/', \r\n",
        "                                                    x_col = 'filename', \r\n",
        "                                                    y_col = 'category', \r\n",
        "                                                    target_size =(150, 150), \r\n",
        "                                                    class_mode = 'categorical', \r\n",
        "                                                    batch_size = 20, \r\n",
        "                                                    color_mode = 'rgb', \r\n",
        "                                                    shuffle = True)"
      ],
      "execution_count": null,
      "outputs": [
        {
          "output_type": "stream",
          "text": [
            "Found 18750 validated image filenames belonging to 2 classes.\n",
            "Found 6250 validated image filenames belonging to 2 classes.\n"
          ],
          "name": "stdout"
        }
      ]
    },
    {
      "cell_type": "code",
      "metadata": {
        "colab": {
          "base_uri": "https://localhost:8080/"
        },
        "id": "1PYPPeUOd0Nw",
        "outputId": "42115994-7252-4a1c-a3cb-78f53f240d41"
      },
      "source": [
        "history = model.fit(\r\n",
        "    train_generator, \r\n",
        "    steps_per_epoch = len(train_df)//64, \r\n",
        "    epochs = 20, \r\n",
        "    validation_data = val_generator, \r\n",
        "    validation_steps = len(val_df)//64)\r\n"
      ],
      "execution_count": null,
      "outputs": [
        {
          "output_type": "stream",
          "text": [
            "Epoch 1/20\n",
            "292/292 [==============================] - 23s 79ms/step - loss: 0.4724 - accuracy: 0.7726 - val_loss: 0.5351 - val_accuracy: 0.7443\n",
            "Epoch 2/20\n",
            "292/292 [==============================] - 21s 72ms/step - loss: 0.4656 - accuracy: 0.7759 - val_loss: 0.5104 - val_accuracy: 0.7526\n",
            "Epoch 3/20\n",
            "292/292 [==============================] - 23s 78ms/step - loss: 0.4541 - accuracy: 0.7880 - val_loss: 0.5070 - val_accuracy: 0.7608\n",
            "Epoch 4/20\n",
            "292/292 [==============================] - 21s 73ms/step - loss: 0.4318 - accuracy: 0.8053 - val_loss: 0.4812 - val_accuracy: 0.7753\n",
            "Epoch 5/20\n",
            "292/292 [==============================] - 21s 73ms/step - loss: 0.4131 - accuracy: 0.8080 - val_loss: 0.4649 - val_accuracy: 0.8000\n",
            "Epoch 6/20\n",
            "292/292 [==============================] - 23s 78ms/step - loss: 0.4036 - accuracy: 0.8223 - val_loss: 0.4577 - val_accuracy: 0.7912\n",
            "Epoch 7/20\n",
            "292/292 [==============================] - 21s 72ms/step - loss: 0.3963 - accuracy: 0.8252 - val_loss: 0.4451 - val_accuracy: 0.7995\n",
            "Epoch 8/20\n",
            "292/292 [==============================] - 21s 73ms/step - loss: 0.3850 - accuracy: 0.8276 - val_loss: 0.4507 - val_accuracy: 0.8072\n",
            "Epoch 9/20\n",
            "292/292 [==============================] - 23s 79ms/step - loss: 0.3740 - accuracy: 0.8342 - val_loss: 0.4775 - val_accuracy: 0.7918\n",
            "Epoch 10/20\n",
            "292/292 [==============================] - 21s 72ms/step - loss: 0.3647 - accuracy: 0.8410 - val_loss: 0.4848 - val_accuracy: 0.7928\n",
            "Epoch 11/20\n",
            "292/292 [==============================] - 21s 72ms/step - loss: 0.3424 - accuracy: 0.8565 - val_loss: 0.4819 - val_accuracy: 0.7680\n",
            "Epoch 12/20\n",
            "292/292 [==============================] - 23s 79ms/step - loss: 0.3307 - accuracy: 0.8575 - val_loss: 0.4642 - val_accuracy: 0.7861\n",
            "Epoch 13/20\n",
            "292/292 [==============================] - 21s 73ms/step - loss: 0.3133 - accuracy: 0.8707 - val_loss: 0.5961 - val_accuracy: 0.7567\n",
            "Epoch 14/20\n",
            "292/292 [==============================] - 23s 78ms/step - loss: 0.3146 - accuracy: 0.8728 - val_loss: 0.4405 - val_accuracy: 0.8088\n",
            "Epoch 15/20\n",
            "292/292 [==============================] - 21s 73ms/step - loss: 0.2970 - accuracy: 0.8724 - val_loss: 0.4806 - val_accuracy: 0.7902\n",
            "Epoch 16/20\n",
            "292/292 [==============================] - 21s 73ms/step - loss: 0.2775 - accuracy: 0.8825 - val_loss: 0.5040 - val_accuracy: 0.7974\n",
            "Epoch 17/20\n",
            "292/292 [==============================] - 23s 78ms/step - loss: 0.2769 - accuracy: 0.8830 - val_loss: 0.5265 - val_accuracy: 0.7959\n",
            "Epoch 18/20\n",
            "292/292 [==============================] - 21s 72ms/step - loss: 0.2517 - accuracy: 0.8990 - val_loss: 0.5040 - val_accuracy: 0.8021\n",
            "Epoch 19/20\n",
            "292/292 [==============================] - 21s 71ms/step - loss: 0.2365 - accuracy: 0.9062 - val_loss: 0.5680 - val_accuracy: 0.7768\n",
            "Epoch 20/20\n",
            "292/292 [==============================] - 23s 78ms/step - loss: 0.2309 - accuracy: 0.9099 - val_loss: 0.4483 - val_accuracy: 0.8170\n"
          ],
          "name": "stdout"
        }
      ]
    },
    {
      "cell_type": "code",
      "metadata": {
        "id": "KHg4HbcLgk-M"
      },
      "source": [
        "model.save_weights('cats_vs_dogs_WEIGHTS.h5')\r\n"
      ],
      "execution_count": null,
      "outputs": []
    },
    {
      "cell_type": "code",
      "metadata": {
        "colab": {
          "base_uri": "https://localhost:8080/"
        },
        "id": "PLcgx5cvgnOx",
        "outputId": "7b91efef-5ef9-4771-9230-a58d098d1469"
      },
      "source": [
        "print('Training accuracy: {:.3f}'.format(history.history['accuracy'][-1]))\r\n",
        "print('Validation accuracy: {:.3f}'.format(history.history['val_accuracy'][-1]))\r\n"
      ],
      "execution_count": null,
      "outputs": [
        {
          "output_type": "stream",
          "text": [
            "Training accuracy: 0.910\n",
            "Validation accuracy: 0.817\n"
          ],
          "name": "stdout"
        }
      ]
    },
    {
      "cell_type": "code",
      "metadata": {
        "colab": {
          "base_uri": "https://localhost:8080/",
          "height": 873
        },
        "id": "F0UBGSMagquD",
        "outputId": "97e03055-b664-4939-b2de-c764218ba876"
      },
      "source": [
        "fig,(ax1, ax2) = plt.subplots(2, 1, figsize = (12,12))\r\n",
        "ax1.plot(history.history[\"loss\"], color= \"red\", label = \"Training loss\")\r\n",
        "ax1.plot(history.history[\"val_loss\"], color= \"b\", label = \"Validation loss\")\r\n",
        "\r\n",
        "ax1.set_xticks(np.arange(1, 10, 1))\r\n",
        "ax1.set_yticks(np.arange(0, 1, 0.1))\r\n",
        "\r\n",
        "ax2.plot(history.history[\"accuracy\"], color = \"red\", label = \"Training accuracy\")\r\n",
        "ax2.plot(history.history[\"val_accuracy\"], color = \"b\", label = \"Validation accuracy\")\r\n",
        "\r\n",
        "ax2.set_xticks(np.arange(1,10, 1))\r\n",
        "ax2.set_yticks(np.arange(0, 1, 0.1))\r\n",
        "\r\n",
        "legend = plt.legend(loc = \"best\", shadow = True)\r\n",
        "plt.tight_layout()\r\n",
        "plt.show()"
      ],
      "execution_count": null,
      "outputs": [
        {
          "output_type": "display_data",
          "data": {
            "image/png": "[encoded data removed]",
            "text/plain": [
              "<Figure size 864x864 with 2 Axes>"
            ]
          },
          "metadata": {
            "tags": [],
            "needs_background": "light"
          }
        }
      ]
    },
    {
      "cell_type": "code",
      "metadata": {
        "id": "KW4gvuDrhglH"
      },
      "source": [
        "test_dir = \"./mustest/\"\r\n",
        "test_data = os.listdir(test_dir)\r\n",
        "test_df = pd.DataFrame({\r\n",
        "    \"filename\" : test_data\r\n",
        "})\r\n"
      ],
      "execution_count": null,
      "outputs": []
    },
    {
      "cell_type": "code",
      "metadata": {
        "colab": {
          "base_uri": "https://localhost:8080/"
        },
        "id": "XsY8nHkthkHe",
        "outputId": "3e9cd051-5964-41f9-c5ba-ac5d4423a4a1"
      },
      "source": [
        "test_datagen = ImageDataGenerator(rescale = 1./255)\r\n",
        "test_generator = test_datagen.flow_from_dataframe(\r\n",
        "    test_df,\r\n",
        "    test_dir,\r\n",
        "    target_size = (150, 150),\r\n",
        "    x_col = \"filename\",\r\n",
        "    y_col = None,\r\n",
        "    batch_size = 10,\r\n",
        "    class_mode = None,\r\n",
        "    shuffle = True,\r\n",
        "    color_mode=\"rgb\",\r\n",
        ")\r\n"
      ],
      "execution_count": null,
      "outputs": [
        {
          "output_type": "stream",
          "text": [
            "Found 2 validated image filenames.\n"
          ],
          "name": "stdout"
        }
      ]
    },
    {
      "cell_type": "code",
      "metadata": {
        "id": "pWRlkVjHh2if"
      },
      "source": [
        "predicted = model.predict(test_generator)\r\n",
        "test_df['category'] = np.argmax(predicted, axis = 1)\r\n"
      ],
      "execution_count": null,
      "outputs": []
    },
    {
      "cell_type": "code",
      "metadata": {
        "colab": {
          "base_uri": "https://localhost:8080/",
          "height": 107
        },
        "id": "1wl2DcDy3u-y",
        "outputId": "eb58e335-8215-46d7-e7e0-3c08bdb78330"
      },
      "source": [
        "test_df"
      ],
      "execution_count": null,
      "outputs": [
        {
          "output_type": "execute_result",
          "data": {
            "text/html": [
              "<div>\n",
              "<style scoped>\n",
              "    .dataframe tbody tr th:only-of-type {\n",
              "        vertical-align: middle;\n",
              "    }\n",
              "\n",
              "    .dataframe tbody tr th {\n",
              "        vertical-align: top;\n",
              "    }\n",
              "\n",
              "    .dataframe thead th {\n",
              "        text-align: right;\n",
              "    }\n",
              "</style>\n",
              "<table border=\"1\" class=\"dataframe\">\n",
              "  <thead>\n",
              "    <tr style=\"text-align: right;\">\n",
              "      <th></th>\n",
              "      <th>filename</th>\n",
              "      <th>category</th>\n",
              "    </tr>\n",
              "  </thead>\n",
              "  <tbody>\n",
              "    <tr>\n",
              "      <th>0</th>\n",
              "      <td>ty.jpg</td>\n",
              "      <td>0</td>\n",
              "    </tr>\n",
              "    <tr>\n",
              "      <th>1</th>\n",
              "      <td>test33.jpg</td>\n",
              "      <td>1</td>\n",
              "    </tr>\n",
              "  </tbody>\n",
              "</table>\n",
              "</div>"
            ],
            "text/plain": [
              "     filename  category\n",
              "0      ty.jpg         0\n",
              "1  test33.jpg         1"
            ]
          },
          "metadata": {
            "tags": []
          },
          "execution_count": 61
        }
      ]
    }
  ]
}